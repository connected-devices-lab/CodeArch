{
 "cells": [
  {
   "cell_type": "code",
   "execution_count": 59,
   "metadata": {
    "colab": {
     "base_uri": "https://localhost:8080/",
     "height": 34
    },
    "colab_type": "code",
    "id": "SWg0x3YTr6hN",
    "outputId": "f1a80a9d-4aae-4317-c5bc-b9f8bed15f95"
   },
   "outputs": [
    {
     "name": "stdout",
     "output_type": "stream",
     "text": [
      "Mounted at /content/drive\n"
     ]
    }
   ],
   "source": [
    "from google.colab import drive\n",
    "drive.mount('/content/drive')"
   ]
  },
  {
   "cell_type": "code",
   "execution_count": 60,
   "metadata": {
    "colab": {
     "base_uri": "https://localhost:8080/",
     "height": 51
    },
    "colab_type": "code",
    "id": "71iB3EZ5KZna",
    "outputId": "8b2f5dee-971e-45cc-a193-575035cfaaf1"
   },
   "outputs": [
    {
     "name": "stdout",
     "output_type": "stream",
     "text": [
      "Populating the interactive namespace from numpy and matplotlib\n"
     ]
    },
    {
     "data": {
      "text/plain": [
       "True"
      ]
     },
     "execution_count": 60,
     "metadata": {
      "tags": []
     },
     "output_type": "execute_result"
    }
   ],
   "source": [
    "%pylab inline\n",
    "import tensorflow as tf\n",
    "import pandas as pd\n",
    "import seaborn as sns\n",
    "from sklearn.model_selection import train_test_split\n",
    "from sklearn.metrics import confusion_matrix\n",
    "from tensorflow.keras.models import Sequential, load_model\n",
    "from tensorflow.keras.layers import AveragePooling2D, GlobalAveragePooling2D, Conv2D, MaxPooling2D, Dense, Activation, Dropout, Flatten, BatchNormalization, SeparableConv2D, Input\n",
    "from tensorflow.keras.models import Model\n",
    "from tensorflow.keras.regularizers import l2\n",
    "from tensorflow.keras.optimizers import Adam\n",
    "from tensorflow.keras.initializers import RandomNormal\n",
    "from tensorflow.keras.callbacks import ModelCheckpoint, TensorBoard, ReduceLROnPlateau\n",
    "from tensorflow.keras.preprocessing.image import ImageDataGenerator\n",
    "from tensorflow.keras.utils import to_categorical\n",
    "from tensorflow.keras import layers\n",
    "import pickle\n",
    "\n",
    "# Checking if GPU is available\n",
    "tf.test.gpu_device_name()\n",
    "tf.test.is_gpu_available(cuda_only=False)"
   ]
  },
  {
   "cell_type": "code",
   "execution_count": 0,
   "metadata": {
    "colab": {},
    "colab_type": "code",
    "id": "ZF1H41Fdr6hS"
   },
   "outputs": [],
   "source": [
    "X = pickle.load(open('/content/drive/My Drive/brain tumor/X.pickle','rb'))"
   ]
  },
  {
   "cell_type": "code",
   "execution_count": 0,
   "metadata": {
    "colab": {},
    "colab_type": "code",
    "id": "vucC94Uor6hU"
   },
   "outputs": [],
   "source": [
    "y = np.load('/content/drive/My Drive/brain tumor/y.npy')"
   ]
  },
  {
   "cell_type": "code",
   "execution_count": 63,
   "metadata": {
    "colab": {
     "base_uri": "https://localhost:8080/",
     "height": 51
    },
    "colab_type": "code",
    "id": "brEO3OC0hCPK",
    "outputId": "d672e8d0-f72d-41cb-d43e-f4f6f9589ccb"
   },
   "outputs": [
    {
     "name": "stderr",
     "output_type": "stream",
     "text": [
      "/usr/local/lib/python3.6/dist-packages/ipykernel_launcher.py:3: RuntimeWarning: invalid value encountered in true_divide\n",
      "  This is separate from the ipykernel package so we can avoid doing imports until\n"
     ]
    }
   ],
   "source": [
    "each_pixel_mean = X.mean(axis=0)\n",
    "each_pixel_std = np.std(X, axis=0)\n",
    "images = np.divide(np.subtract(X,each_pixel_mean), each_pixel_std)\n"
   ]
  },
  {
   "cell_type": "code",
   "execution_count": 13,
   "metadata": {
    "colab": {
     "base_uri": "https://localhost:8080/",
     "height": 34
    },
    "colab_type": "code",
    "id": "sEXnWKoTLXGS",
    "outputId": "770b723b-e5bc-43e1-a057-1029cccd7de7"
   },
   "outputs": [
    {
     "data": {
      "text/plain": [
       "(3064, 256, 256, 1)"
      ]
     },
     "execution_count": 13,
     "metadata": {
      "tags": []
     },
     "output_type": "execute_result"
    }
   ],
   "source": [
    "X.shape"
   ]
  },
  {
   "cell_type": "code",
   "execution_count": 0,
   "metadata": {
    "colab": {},
    "colab_type": "code",
    "id": "TafL0Gdjr6hX"
   },
   "outputs": [],
   "source": [
    "X = X.astype('float32')\n",
    "y = to_categorical(y)"
   ]
  },
  {
   "cell_type": "code",
   "execution_count": 0,
   "metadata": {
    "colab": {},
    "colab_type": "code",
    "id": "KjNkcpIMr6ha"
   },
   "outputs": [],
   "source": [
    "X_train, X_test, y_train, y_test = train_test_split(X, y, test_size=0.5, shuffle = False)\n",
    "X_train, X_val, y_train, y_val = train_test_split(X_train, y_train, test_size=0.5, shuffle = False)"
   ]
  },
  {
   "cell_type": "code",
   "execution_count": 0,
   "metadata": {
    "colab": {},
    "colab_type": "code",
    "id": "uLSa-ouPr6hc"
   },
   "outputs": [],
   "source": [
    "'''\n",
    "def architecture(input_shape, num_classes, l2_regularization=0.001):\n",
    "    regularization = l2(l2_regularization)\n",
    "\n",
    "    \n",
    "    img_input = Input(input_shape)\n",
    "    \n",
    "    #Base block\n",
    "    x = Conv2D(filters=64, kernel_size=(5, 5), strides=(1, 1), padding='same', activation='relu', kernel_regularizer=regularization, use_bias=False)(img_input)\n",
    "    residual_base = x\n",
    "    residual_base_128 = tf.reshape(residual_base, shape=[-1, 256, 256, 128])\n",
    "    residual_base_256 = tf.reshape(residual_base, shape=[-1, 256, 256, 256])\n",
    "    residual_base_512 = tf.reshape(residual_base, shape=[-1, 256, 256, 512])\n",
    "    \n",
    "    #First residual block\n",
    "    x = Conv2D(filters=64, kernel_size=(3, 3), strides=(1, 1), padding='same', activation='relu', kernel_regularizer=regularization, use_bias=False)(x)\n",
    "    x = Conv2D(filters=64, kernel_size=(3, 3), strides=(1, 1), padding='same', activation='relu', kernel_regularizer=regularization, use_bias=False)(x)\n",
    "    residual_1 = x \n",
    "    residual_1_128 = tf.reshape(residual_1, shape=[-1, 256, 256, 128])\n",
    "    residual_1_256 = tf.reshape(residual_1, shape=[-1, 256, 256, 256])\n",
    "    residual_1_512 = tf.reshape(residual_1, shape=[-1, 256, 256, 512])\n",
    "   \n",
    "    #Second residual block\n",
    "    x = Conv2D(filters=128, kernel_size=(3, 3), strides=(1, 1), activation='relu', padding='same', use_bias=False)(x)\n",
    "    x = Conv2D(filters=128, kernel_size=(3, 3), strides=(1, 1), activation='relu', padding='same', use_bias=False)(x)\n",
    "    residual_2 = x\n",
    "    residual_2_256 = tf.reshape(residual_1, shape=[-1, 256, 256, 256])\n",
    "    residual_2_512 = tf.reshape(residual_1, shape=[-1, 256, 256, 512])\n",
    "\n",
    "    x = layers.add([x,residual_1_128])\n",
    "    \n",
    "\n",
    "    #Third residual block\n",
    "    x = Conv2D(filters=256, kernel_size=(3, 3), padding='same', activation='relu', use_bias=False)(x)\n",
    "    x = Conv2D(filters=256, kernel_size=(3, 3), padding='same',  activation='relu', use_bias=False)(x)\n",
    "    residual_3 = x\n",
    "    residual_3_512 = tf.reshape(residual_3, shape=[-1, 256,256,512])\n",
    "    x = layers.add([x, residual_2_256])\n",
    "    \n",
    "    #Fourth residual block\n",
    "    x = Conv2D(filters=512, kernel_size=(3, 3), padding='same',  activation='relu', use_bias=False)(x)\n",
    "    x = Conv2D(filters=512, kernel_size=(3, 3), padding='same', activation='relu', use_bias=False)(x)\n",
    "    x = layers.add([x, residual_3_512])\n",
    "    \n",
    "    x = GlobalAveragePooling2D()(x)\n",
    "   \n",
    "    \n",
    "    output = Dense(units=3, activation='softmax')(x)\n",
    "    \n",
    "\n",
    "    model = Model(img_input, output)\n",
    "    model.summary()\n",
    "    return model\n",
    "'''"
   ]
  },
  {
   "cell_type": "code",
   "execution_count": 0,
   "metadata": {
    "colab": {},
    "colab_type": "code",
    "id": "p7UO-TJll-eo"
   },
   "outputs": [],
   "source": [
    "def architecture(input_shape, num_classes, l2_regularization=0.01):\n",
    "    regularization = l2(l2_regularization)\n",
    "\n",
    "    \n",
    "    img_input = Input(input_shape)\n",
    "    x = Conv2D(filters=128, kernel_size=(3, 3), strides=(1, 1), padding='same', activation='relu', kernel_regularizer=regularization, use_bias=False)(img_input)\n",
    "    #x = MaxPooling2D(pool_size=(2, 2), padding='same')(x)\n",
    "    #x = Dropout(0.10)(x)\n",
    "    \n",
    "    residual_1 = MaxPooling2D()(x)\n",
    "\n",
    "    x = Conv2D(filters=128, kernel_size=(3, 3), strides=(1, 1), activation='relu', padding='same', use_bias=False)(x)\n",
    "    x = Conv2D(filters=128, kernel_size=(3, 3), strides=(1, 1), activation='relu', padding='same', use_bias=False)(x)\n",
    "    #x = Dropout(0.10)(x)\n",
    "    x = MaxPooling2D()(x)\n",
    "    x = layers.add([x,residual_1])\n",
    "    \n",
    "    residual_2 = x\n",
    "    \n",
    "    x = Conv2D(filters=128, kernel_size=(3, 3), padding='same', kernel_regularizer=regularization, activation='relu', use_bias=False)(x)\n",
    "    x = Conv2D(filters=128, kernel_size=(3, 3), padding='same', kernel_regularizer=regularization, activation='relu', use_bias=False)(x)\n",
    "    #x = Dropout(0.10)(x)\n",
    "    x = MaxPooling2D()(x)\n",
    "    x = layers.add([x, residual_1, residual_2])\n",
    "    \n",
    "    residual_3 = MaxPooling2D()(x)\n",
    "    \n",
    "    x = Conv2D(filters=128, kernel_size=(3, 3), padding='same', kernel_regularizer=regularization, activation='relu', use_bias=False)(x)\n",
    "    x = Conv2D(filters=128, kernel_size=(3, 3), padding='same', kernel_regularizer=regularization, activation='relu', use_bias=False)(x)\n",
    "    #x = Dropout(0.10)(x)\n",
    "    x = MaxPooling2D()(x)\n",
    "    x = layers.add([x, residual_1, residual_2, residual_3])\n",
    "    \n",
    "    \n",
    "    x = Conv2D(filters=128, kernel_size=(3,3), padding='same', kernel_regularizer=regularization, activation='relu', use_bias=False)(x)\n",
    "    x = GlobalAveragePooling2D()(x)\n",
    "    #y = GlobalAveragePooling2D()(residual_1)\n",
    "    #z = GlobalAveragePooling2D()(residual_2)\n",
    "\n",
    "    #x_y_z = layers.add([x,y,z])\n",
    "    \n",
    "    \n",
    "    output = Dense(units=3, activation='softmax')(x)\n",
    "    \n",
    "\n",
    "    model = Model(img_input, output)\n",
    "    model.summary()\n",
    "    return model\n",
    "    "
   ]
  },
  {
   "cell_type": "code",
   "execution_count": 0,
   "metadata": {
    "colab": {},
    "colab_type": "code",
    "id": "NpDHS_kXiKNe"
   },
   "outputs": [],
   "source": [
    "def architecture(input_shape, num_classes, l2_regularization=0.01):\n",
    "    regularization = l2(l2_regularization)\n",
    "\n",
    "    \n",
    "    img_input = Input(input_shape)\n",
    "    x = Conv2D(filters=128, kernel_size=(5, 5), strides=(1, 1), padding='same', activation='relu', kernel_regularizer=regularization, use_bias=False)(img_input)\n",
    "    x = MaxPooling2D(pool_size=(2, 2), padding='same')(x)\n",
    "    x = Dropout(0.10)(x)\n",
    "    \n",
    "    residual_1 = x\n",
    "\n",
    "    x = Conv2D(filters=128, kernel_size=(3, 3), strides=(1, 1), activation='relu', padding='same', use_bias=False)(x)\n",
    "    x = Conv2D(filters=128, kernel_size=(3, 3), strides=(1, 1), activation='relu', padding='same', use_bias=False)(x)\n",
    "    x = Dropout(0.10)(x)\n",
    "    x = layers.add([x,residual_1])\n",
    "    \n",
    "    residual_2 = x\n",
    "    \n",
    "    x = Conv2D(filters=128, kernel_size=(3, 3), padding='same', kernel_regularizer=regularization, activation='relu', use_bias=False)(x)\n",
    "    x = Conv2D(filters=128, kernel_size=(3, 3), padding='same', kernel_regularizer=regularization, activation='relu', use_bias=False)(x)\n",
    "    x = Dropout(0.10)(x)\n",
    "    x = layers.add([x, residual_1, residual_2])\n",
    "    \n",
    "    residual_3 = x\n",
    "    \n",
    "    x = Conv2D(filters=128, kernel_size=(3, 3), padding='same', kernel_regularizer=regularization, activation='relu', use_bias=False)(x)\n",
    "    x = Conv2D(filters=128, kernel_size=(3, 3), padding='same', kernel_regularizer=regularization, activation='relu', use_bias=False)(x)\n",
    "    x = Dropout(0.10)(x)\n",
    "    x = layers.add([x, residual_1, residual_2, residual_3])\n",
    "    \n",
    "    \n",
    "    x = Conv2D(filters=128, kernel_size=(3,3), padding='same', kernel_regularizer=regularization, activation='relu', use_bias=False)(x)\n",
    "    \n",
    "    \"\"\"\n",
    "    x = GlobalAveragePooling2D()(x)\n",
    "    #y = GlobalAveragePooling2D()(residual_1)\n",
    "    #z = GlobalAveragePooling2D()(residual_2)\n",
    "\n",
    "    #x_y_z = layers.add([x,y,z])\n",
    "    \"\"\"\n",
    "    x =Flatten()(x)\n",
    "    \n",
    "    output = Dense(units=3, activation='softmax')(x)\n",
    "    \n",
    "\n",
    "    model = Model(img_input, output)\n",
    "    model.summary()\n",
    "    return model\n",
    "    "
   ]
  },
  {
   "cell_type": "code",
   "execution_count": 67,
   "metadata": {
    "colab": {
     "base_uri": "https://localhost:8080/",
     "height": 54
    },
    "colab_type": "code",
    "id": "imKjZ02DF3VN",
    "outputId": "842628b8-9607-4bc0-fd94-80ebca082444"
   },
   "outputs": [
    {
     "data": {
      "text/plain": [
       "\"\\n#ALEXNET ARCHITECTURE\\nnp.random.seed(1000)\\n\\n# Constructing CNN structure\\nmodel = Sequential()\\n\\n# 1st convolution layer\\nmodel.add(Conv2D(64, (4, 4), activation='relu', padding = 'valid', input_shape=(256,256,1), bias_initializer=RandomNormal(stddev=1), kernel_initializer=RandomNormal(stddev=1)))\\nmodel.add(Conv2D(64, (4, 4), activation='relu', padding = 'valid', input_shape=(256,256,1), bias_initializer=RandomNormal(stddev=1), kernel_initializer=RandomNormal(stddev=1)))\\nmodel.add(BatchNormalization())\\nmodel.add(MaxPooling2D(pool_size=(3,3), strides=(2, 2)))\\nmodel.add(Dropout(0.25))\\n\\n# 3rd convolution layer\\nmodel.add(Conv2D(64, (3, 3), activation='relu', padding = 'same', bias_initializer=RandomNormal(stddev=1), kernel_initializer=RandomNormal(stddev=1)))\\nmodel.add(Conv2D(64, (3, 3), activation='relu', padding = 'same', bias_initializer=RandomNormal(stddev=1), kernel_initializer=RandomNormal(stddev=1)))\\nmodel.add(BatchNormalization())\\nmodel.add(MaxPooling2D(pool_size=(3,3), strides=(2, 2)))\\nmodel.add(Dropout(0.25))\\n          \\n# 5th convolution layer\\nmodel.add(Conv2D(128, (3, 3), activation='relu', padding = 'same', bias_initializer=RandomNormal(stddev=1), kernel_initializer=RandomNormal(stddev=1)))\\nmodel.add(Conv2D(128, (3, 3), activation='relu', padding = 'same', bias_initializer=RandomNormal(stddev=1), kernel_initializer=RandomNormal(stddev=1)))\\nmodel.add(BatchNormalization())\\nmodel.add(MaxPooling2D(pool_size=(3,3), strides=(2, 2)))\\nmodel.add(Dropout(0.25))\\n\\n# 7th convolution layer\\nmodel.add(Conv2D(256, (3, 3), activation='relu', padding = 'same', bias_initializer=RandomNormal(stddev=1), kernel_initializer=RandomNormal(stddev=1)))\\nmodel.add(Conv2D(256, (3, 3), activation='relu', padding = 'same', bias_initializer=RandomNormal(stddev=1), kernel_initializer=RandomNormal(stddev=1)))\\nmodel.add(BatchNormalization())\\nmodel.add(MaxPooling2D(pool_size=(3,3), strides=(2, 2)))\\nmodel.add(Dropout(0.5))\\n\\n\\nmodel.add(Flatten())\\n# Fully connected layers\\nmodel.add(Dense(2048, activation='relu'))\\nmodel.add(Dropout(0.5))\\nmodel.add(Dense(3, activation='softmax'))\\n\""
      ]
     },
     "execution_count": 67,
     "metadata": {
      "tags": []
     },
     "output_type": "execute_result"
    }
   ],
   "source": [
    "'''\n",
    "#ALEXNET ARCHITECTURE\n",
    "np.random.seed(1000)\n",
    "\n",
    "# Constructing CNN structure\n",
    "model = Sequential()\n",
    "\n",
    "# 1st convolution layer\n",
    "model.add(Conv2D(64, (4, 4), activation='relu', padding = 'valid', input_shape=(256,256,1), bias_initializer=RandomNormal(stddev=1), kernel_initializer=RandomNormal(stddev=1)))\n",
    "model.add(Conv2D(64, (4, 4), activation='relu', padding = 'valid', input_shape=(256,256,1), bias_initializer=RandomNormal(stddev=1), kernel_initializer=RandomNormal(stddev=1)))\n",
    "model.add(BatchNormalization())\n",
    "model.add(MaxPooling2D(pool_size=(3,3), strides=(2, 2)))\n",
    "model.add(Dropout(0.25))\n",
    "\n",
    "# 3rd convolution layer\n",
    "model.add(Conv2D(64, (3, 3), activation='relu', padding = 'same', bias_initializer=RandomNormal(stddev=1), kernel_initializer=RandomNormal(stddev=1)))\n",
    "model.add(Conv2D(64, (3, 3), activation='relu', padding = 'same', bias_initializer=RandomNormal(stddev=1), kernel_initializer=RandomNormal(stddev=1)))\n",
    "model.add(BatchNormalization())\n",
    "model.add(MaxPooling2D(pool_size=(3,3), strides=(2, 2)))\n",
    "model.add(Dropout(0.25))\n",
    "          \n",
    "# 5th convolution layer\n",
    "model.add(Conv2D(128, (3, 3), activation='relu', padding = 'same', bias_initializer=RandomNormal(stddev=1), kernel_initializer=RandomNormal(stddev=1)))\n",
    "model.add(Conv2D(128, (3, 3), activation='relu', padding = 'same', bias_initializer=RandomNormal(stddev=1), kernel_initializer=RandomNormal(stddev=1)))\n",
    "model.add(BatchNormalization())\n",
    "model.add(MaxPooling2D(pool_size=(3,3), strides=(2, 2)))\n",
    "model.add(Dropout(0.25))\n",
    "\n",
    "# 7th convolution layer\n",
    "model.add(Conv2D(256, (3, 3), activation='relu', padding = 'same', bias_initializer=RandomNormal(stddev=1), kernel_initializer=RandomNormal(stddev=1)))\n",
    "model.add(Conv2D(256, (3, 3), activation='relu', padding = 'same', bias_initializer=RandomNormal(stddev=1), kernel_initializer=RandomNormal(stddev=1)))\n",
    "model.add(BatchNormalization())\n",
    "model.add(MaxPooling2D(pool_size=(3,3), strides=(2, 2)))\n",
    "model.add(Dropout(0.5))\n",
    "\n",
    "\n",
    "model.add(Flatten())\n",
    "# Fully connected layers\n",
    "model.add(Dense(2048, activation='relu'))\n",
    "model.add(Dropout(0.5))\n",
    "model.add(Dense(3, activation='softmax'))\n",
    "'''"
   ]
  },
  {
   "cell_type": "code",
   "execution_count": 72,
   "metadata": {
    "colab": {
     "base_uri": "https://localhost:8080/",
     "height": 901
    },
    "colab_type": "code",
    "id": "N0DJthSwr6he",
    "outputId": "3b7746f0-a7cb-4281-9b8b-87a270285068"
   },
   "outputs": [
    {
     "name": "stdout",
     "output_type": "stream",
     "text": [
      "Model: \"model_5\"\n",
      "__________________________________________________________________________________________________\n",
      "Layer (type)                    Output Shape         Param #     Connected to                     \n",
      "==================================================================================================\n",
      "input_9 (InputLayer)            [(None, 256, 256, 1) 0                                            \n",
      "__________________________________________________________________________________________________\n",
      "conv2d_55 (Conv2D)              (None, 256, 256, 128 3200        input_9[0][0]                    \n",
      "__________________________________________________________________________________________________\n",
      "max_pooling2d_16 (MaxPooling2D) (None, 128, 128, 128 0           conv2d_55[0][0]                  \n",
      "__________________________________________________________________________________________________\n",
      "dropout_23 (Dropout)            (None, 128, 128, 128 0           max_pooling2d_16[0][0]           \n",
      "__________________________________________________________________________________________________\n",
      "conv2d_56 (Conv2D)              (None, 128, 128, 128 147456      dropout_23[0][0]                 \n",
      "__________________________________________________________________________________________________\n",
      "conv2d_57 (Conv2D)              (None, 128, 128, 128 147456      conv2d_56[0][0]                  \n",
      "__________________________________________________________________________________________________\n",
      "dropout_24 (Dropout)            (None, 128, 128, 128 0           conv2d_57[0][0]                  \n",
      "__________________________________________________________________________________________________\n",
      "add_21 (Add)                    (None, 128, 128, 128 0           dropout_24[0][0]                 \n",
      "                                                                 dropout_23[0][0]                 \n",
      "__________________________________________________________________________________________________\n",
      "conv2d_58 (Conv2D)              (None, 128, 128, 128 147456      add_21[0][0]                     \n",
      "__________________________________________________________________________________________________\n",
      "conv2d_59 (Conv2D)              (None, 128, 128, 128 147456      conv2d_58[0][0]                  \n",
      "__________________________________________________________________________________________________\n",
      "dropout_25 (Dropout)            (None, 128, 128, 128 0           conv2d_59[0][0]                  \n",
      "__________________________________________________________________________________________________\n",
      "add_22 (Add)                    (None, 128, 128, 128 0           dropout_25[0][0]                 \n",
      "                                                                 dropout_23[0][0]                 \n",
      "                                                                 add_21[0][0]                     \n",
      "__________________________________________________________________________________________________\n",
      "conv2d_60 (Conv2D)              (None, 128, 128, 128 147456      add_22[0][0]                     \n",
      "__________________________________________________________________________________________________\n",
      "conv2d_61 (Conv2D)              (None, 128, 128, 128 147456      conv2d_60[0][0]                  \n",
      "__________________________________________________________________________________________________\n",
      "dropout_26 (Dropout)            (None, 128, 128, 128 0           conv2d_61[0][0]                  \n",
      "__________________________________________________________________________________________________\n",
      "add_23 (Add)                    (None, 128, 128, 128 0           dropout_26[0][0]                 \n",
      "                                                                 dropout_23[0][0]                 \n",
      "                                                                 add_21[0][0]                     \n",
      "                                                                 add_22[0][0]                     \n",
      "__________________________________________________________________________________________________\n",
      "conv2d_62 (Conv2D)              (None, 128, 128, 128 147456      add_23[0][0]                     \n",
      "__________________________________________________________________________________________________\n",
      "flatten (Flatten)               (None, 2097152)      0           conv2d_62[0][0]                  \n",
      "__________________________________________________________________________________________________\n",
      "dense_5 (Dense)                 (None, 3)            6291459     flatten[0][0]                    \n",
      "==================================================================================================\n",
      "Total params: 7,326,851\n",
      "Trainable params: 7,326,851\n",
      "Non-trainable params: 0\n",
      "__________________________________________________________________________________________________\n"
     ]
    }
   ],
   "source": [
    "input_shape = X.shape[1:]\n",
    "num_classes = 3\n",
    "model = architecture(input_shape, num_classes=3)\n",
    "model.compile(loss='categorical_crossentropy', optimizer=Adam(), metrics=['accuracy'])"
   ]
  },
  {
   "cell_type": "code",
   "execution_count": 0,
   "metadata": {
    "colab": {},
    "colab_type": "code",
    "id": "439YlwZFr6hg"
   },
   "outputs": [],
   "source": [
    "filepath='Model.{epoch:02d}-{val_acc:.4f}.hdf5'\n",
    "checkpointer = ModelCheckpoint(filepath, monitor='val_loss', verbose=1, save_best_only=True, mode='auto')\n",
    "tensorboard = TensorBoard(log_dir='./logs')\n",
    "learning_rate_reduction = ReduceLROnPlateau(monitor='val_acc', patience=3, verbose=1, factor=0.5, min_lr=0.00001)"
   ]
  },
  {
   "cell_type": "code",
   "execution_count": 0,
   "metadata": {
    "colab": {
     "base_uri": "https://localhost:8080/",
     "height": 391
    },
    "colab_type": "code",
    "id": "XlJb5ledr6hi",
    "outputId": "f4c5c214-5893-41fc-cb10-c6ee9ba22c39"
   },
   "outputs": [
    {
     "name": "stdout",
     "output_type": "stream",
     "text": [
      "Epoch 1/10\n",
      "1499/1500 [============================>.] - ETA: 0s - loss: 3.5076 - acc: 0.4515Epoch 1/10\n",
      " 644/1500 [===========>..................] - ETA: 13s - loss: 1.2596 - acc: 0.4612\n",
      "Epoch 00001: val_loss improved from inf to 1.25655, saving model to Model.01-0.4612.hdf5\n",
      "1500/1500 [==============================] - 1302s 868ms/step - loss: 3.5061 - acc: 0.4515 - val_loss: 1.2566 - val_acc: 0.4612\n",
      "Epoch 2/10\n",
      "1499/1500 [============================>.] - ETA: 0s - loss: 1.5915 - acc: 0.4551Epoch 1/10\n",
      " 644/1500 [===========>..................] - ETA: 12s - loss: 1.2300 - acc: 0.4612\n",
      "Epoch 00002: val_loss improved from 1.25655 to 1.22674, saving model to Model.02-0.4612.hdf5\n",
      "1500/1500 [==============================] - 1298s 865ms/step - loss: 1.5912 - acc: 0.4552 - val_loss: 1.2267 - val_acc: 0.4612\n",
      "Epoch 3/10\n",
      "1499/1500 [============================>.] - ETA: 0s - loss: 1.6247 - acc: 0.4558Epoch 1/10\n",
      " 644/1500 [===========>..................] - ETA: 12s - loss: 1.2136 - acc: 0.4612\n",
      "Epoch 00003: val_loss improved from 1.22674 to 1.21036, saving model to Model.03-0.4612.hdf5\n",
      "1500/1500 [==============================] - 1298s 866ms/step - loss: 1.6244 - acc: 0.4558 - val_loss: 1.2104 - val_acc: 0.4612\n",
      "Epoch 4/10\n",
      "1499/1500 [============================>.] - ETA: 0s - loss: 1.6118 - acc: 0.4545Epoch 1/10\n",
      " 644/1500 [===========>..................] - ETA: 12s - loss: 1.1979 - acc: 0.4612\n",
      "Epoch 00004: val_loss improved from 1.21036 to 1.19465, saving model to Model.04-0.4612.hdf5\n",
      "1500/1500 [==============================] - 1297s 865ms/step - loss: 1.6115 - acc: 0.4545 - val_loss: 1.1946 - val_acc: 0.4612\n",
      "Epoch 5/10\n",
      " 990/1500 [==================>...........] - ETA: 7:18 - loss: 1.3405 - acc: 0.4560"
     ]
    }
   ],
   "source": [
    "# Compiling model\n",
    "model.compile(loss='categorical_crossentropy', optimizer=Adam(), metrics=['accuracy'])\n",
    "\n",
    "\n",
    "\n",
    "# Specifying parameters for Data Augmentation\n",
    "datagen = ImageDataGenerator(\n",
    "    featurewise_center=False,  # set input mean to 0 over the dataset\n",
    "    samplewise_center=False,  # set each sample mean to 0\n",
    "    featurewise_std_normalization=False,  # divide inputs by std of the dataset\n",
    "    samplewise_std_normalization=False,  # divide each input by its std\n",
    "    zca_whitening=False,  # apply ZCA whitening\n",
    "    rotation_range=40,  # randomly rotate images in the range (degrees, 0 to 180)\n",
    "    width_shift_range=0.2,  # randomly shift images horizontally (fraction of total width)\n",
    "    height_shift_range=0.2,  # randomly shift images vertically (fraction of total height)\n",
    "    horizontal_flip=True,  # randomly flip images\n",
    "    vertical_flip=True,\n",
    "    zoom_range = 0.05)  # zoom images in range [1 - zoom_range, 1+ zoom_range]\n",
    "\n",
    "datagen.fit(X_train)\n",
    "\n",
    "\n",
    "# Saving model each time it achieves lower loss on the validation set\n",
    "filepath='Model.{epoch:02d}-{val_acc:.4f}.hdf5'\n",
    "checkpointer = ModelCheckpoint(filepath, monitor='val_loss', verbose=1, save_best_only=True, mode='auto')\n",
    "tensorboard = TensorBoard(log_dir='./logs')\n",
    "\n",
    "\n",
    "history = model.fit_generator(datagen.flow(X_train, y_train,\n",
    "                    batch_size=16),\n",
    "                    epochs=10,\n",
    "                    validation_data=(X_val, y_val),\n",
    "                    steps_per_epoch=X_train.shape[0],\n",
    "                    callbacks=[checkpointer,tensorboard]\n",
    "                             )\n",
    "\n",
    "\n",
    "pd.DataFrame(history.history).to_csv(\"history.csv\")"
   ]
  },
  {
   "cell_type": "code",
   "execution_count": 0,
   "metadata": {
    "colab": {},
    "colab_type": "code",
    "id": "QyvL7sLir6hk"
   },
   "outputs": [],
   "source": [
    "model2 = load_model('Model.05-0.4791.hdf5')"
   ]
  },
  {
   "cell_type": "code",
   "execution_count": 0,
   "metadata": {
    "colab": {
     "base_uri": "https://localhost:8080/",
     "height": 68
    },
    "colab_type": "code",
    "id": "lylh12iCONI1",
    "outputId": "44536e24-3a8a-491d-bc46-6e7a21f1f22b"
   },
   "outputs": [
    {
     "name": "stdout",
     "output_type": "stream",
     "text": [
      "920/920 [==============================] - 12s 13ms/sample - loss: 1.0533 - acc: 0.4837\n",
      "Loss: 1.0532933297364608\n",
      "Accuracy: 0.48369566\n"
     ]
    }
   ],
   "source": [
    "scores = model.evaluate(np.array(X_test), np.array(y_test), batch_size=16)\n",
    "print(\"Loss: \" + str(scores[0]))\n",
    "print(\"Accuracy: \" + str(scores[1]))"
   ]
  },
  {
   "cell_type": "code",
   "execution_count": 0,
   "metadata": {
    "colab": {},
    "colab_type": "code",
    "id": "XoHIaBmyONyL"
   },
   "outputs": [],
   "source": [
    "history = pd.read_csv('history.csv', usecols = ['acc','loss','val_acc','val_loss'])"
   ]
  },
  {
   "cell_type": "code",
   "execution_count": 0,
   "metadata": {
    "colab": {
     "base_uri": "https://localhost:8080/",
     "height": 638
    },
    "colab_type": "code",
    "id": "G3O3-cp-OPBD",
    "outputId": "41a08bda-2bf9-468b-e83f-203dfc34e368"
   },
   "outputs": [
    {
     "data": {
      "image/png": "[encoded data removed]",
      "text/plain": [
       "<Figure size 1440x720 with 1 Axes>"
      ]
     },
     "metadata": {
      "tags": []
     },
     "output_type": "display_data"
    }
   ],
   "source": [
    "def plot_accuracy(data, size = (20,10)):\n",
    "    plt.figure(figsize=size) \n",
    "    plt.plot(data['acc'])\n",
    "    plt.plot(data['val_acc'])\n",
    "    plt.title('Model Accuracy', fontsize = 18)\n",
    "    plt.ylabel('Accuracy', fontsize = 18)\n",
    "    plt.xlabel('Epoch', fontsize = 18)\n",
    "    plt.legend(['Train', 'Test'], loc='upper left', fontsize = 16)\n",
    "    plt.tick_params(axis='both', labelsize=14)\n",
    "    plt.show()\n",
    "    \n",
    "plot_accuracy(history)"
   ]
  },
  {
   "cell_type": "code",
   "execution_count": 0,
   "metadata": {
    "colab": {
     "base_uri": "https://localhost:8080/",
     "height": 638
    },
    "colab_type": "code",
    "id": "q9TcXfOzOaGa",
    "outputId": "c4c87661-3b1c-4928-9a46-c4afd4a27365"
   },
   "outputs": [
    {
     "data": {
      "image/png": "[encoded data removed]",
      "text/plain": [
       "<Figure size 1440x720 with 1 Axes>"
      ]
     },
     "metadata": {
      "tags": []
     },
     "output_type": "display_data"
    }
   ],
   "source": [
    "def plot_loss(data, size = (20,10)):\n",
    "    plt.figure(figsize=size) \n",
    "    plt.plot(data['loss'])\n",
    "    plt.plot(data['val_loss'])\n",
    "    plt.title('Model Loss', fontsize = 18)\n",
    "    plt.ylabel('Loss', fontsize = 18)\n",
    "    plt.xlabel('Epoch', fontsize = 18)\n",
    "    plt.ylim(0.9,2)\n",
    "    plt.legend(['Train', 'Test'], loc='upper left', fontsize = 16)\n",
    "    plt.tick_params(axis='both', labelsize=14)\n",
    "    plt.show()\n",
    "    \n",
    "plot_loss(history)"
   ]
  },
  {
   "cell_type": "code",
   "execution_count": 0,
   "metadata": {
    "colab": {},
    "colab_type": "code",
    "id": "eSiXeUF5OabS"
   },
   "outputs": [],
   "source": [
    "def create_confmat(true_labels, predicted_labels, columns, colour = 'Oranges', size = (20,14)):\n",
    "    \n",
    "    cm = confusion_matrix(true_labels, predicted_labels) \n",
    "    cm_df = pd.DataFrame(cm,\n",
    "    index = [col for col in columns], \n",
    "    columns = [col for col in columns])\n",
    "    plt.figure(figsize=(18,16))\n",
    "    sns.heatmap(cm_df, annot = True, cmap = colour, fmt='g', linewidths=.2)\n",
    "    plt.title('Confusion Matrix', fontsize = 20)\n",
    "    plt.ylabel('True label', fontsize = 18)\n",
    "    plt.xlabel('Predicted label', fontsize = 18)\n",
    "    plt.tick_params(axis='both', labelsize=14)\n",
    "    plt.show()"
   ]
  },
  {
   "cell_type": "code",
   "execution_count": 0,
   "metadata": {
    "colab": {
     "base_uri": "https://localhost:8080/",
     "height": 163
    },
    "colab_type": "code",
    "id": "r_xb5NluOfrD",
    "outputId": "8ad935f3-4549-4b29-ba0b-edd1f395224a"
   },
   "outputs": [
    {
     "ename": "NameError",
     "evalue": "ignored",
     "output_type": "error",
     "traceback": [
      "\u001b[0;31m---------------------------------------------------------------------------\u001b[0m",
      "\u001b[0;31mNameError\u001b[0m                                 Traceback (most recent call last)",
      "\u001b[0;32m<ipython-input-45-53a6e0884fc6>\u001b[0m in \u001b[0;36m<module>\u001b[0;34m()\u001b[0m\n\u001b[0;32m----> 1\u001b[0;31m \u001b[0mcreate_confmat\u001b[0m\u001b[0;34m(\u001b[0m\u001b[0mresults_df\u001b[0m\u001b[0;34m[\u001b[0m\u001b[0;34m'Original_label'\u001b[0m\u001b[0;34m]\u001b[0m\u001b[0;34m,\u001b[0m \u001b[0mresults_df\u001b[0m\u001b[0;34m[\u001b[0m\u001b[0;34m'Predicted_label'\u001b[0m\u001b[0;34m]\u001b[0m\u001b[0;34m,\u001b[0m \u001b[0;34m[\u001b[0m\u001b[0;34m'GLIOMA'\u001b[0m\u001b[0;34m,\u001b[0m\u001b[0;34m'MENINGIOMA'\u001b[0m\u001b[0;34m,\u001b[0m\u001b[0;34m'PITUITARY'\u001b[0m\u001b[0;34m]\u001b[0m\u001b[0;34m,\u001b[0m \u001b[0mcolour\u001b[0m \u001b[0;34m=\u001b[0m \u001b[0;34m'Greens'\u001b[0m\u001b[0;34m)\u001b[0m\u001b[0;34m\u001b[0m\u001b[0;34m\u001b[0m\u001b[0m\n\u001b[0m",
      "\u001b[0;31mNameError\u001b[0m: name 'results_df' is not defined"
     ]
    }
   ],
   "source": [
    "# Displaying confusion matrix\n",
    "create_confmat(results_df['Original_label'], results_df['Predicted_label'], ['GLIOMA','MENINGIOMA','PITUITARY'], colour = 'Greens')"
   ]
  },
  {
   "cell_type": "code",
   "execution_count": 0,
   "metadata": {
    "colab": {},
    "colab_type": "code",
    "id": "zdeRs83jPmKN"
   },
   "outputs": [],
   "source": []
  }
 ],
 "metadata": {
  "accelerator": "GPU",
  "colab": {
   "collapsed_sections": [],
   "name": "train_model.ipynb",
   "provenance": []
  },
  "kernelspec": {
   "display_name": "Python 3",
   "language": "python",
   "name": "python3"
  },
  "language_info": {
   "codemirror_mode": {
    "name": "ipython",
    "version": 3
   },
   "file_extension": ".py",
   "mimetype": "text/x-python",
   "name": "python",
   "nbconvert_exporter": "python",
   "pygments_lexer": "ipython3",
   "version": "3.7.3"
  }
 },
 "nbformat": 4,
 "nbformat_minor": 1
}
